{
  "nbformat": 4,
  "nbformat_minor": 0,
  "metadata": {
    "colab": {
      "name": "MLW2019_H3_image_generator.ipynb",
      "version": "0.3.2",
      "provenance": [],
      "collapsed_sections": []
    },
    "kernelspec": {
      "name": "python3",
      "display_name": "Python 3"
    }
  },
  "cells": [
    {
      "metadata": {
        "id": "JPeHnhQQPltz",
        "colab_type": "code",
        "colab": {}
      },
      "cell_type": "code",
      "source": [
        "from datetime import datetime\n",
        "import matplotlib.pyplot as plt\n",
        "import csv\n",
        "import re\n",
        "import os"
      ],
      "execution_count": 0,
      "outputs": []
    },
    {
      "metadata": {
        "id": "j0r4dwi-H68N",
        "colab_type": "code",
        "outputId": "4abd13fc-904a-4c74-b124-538f91c40d6e",
        "colab": {
          "base_uri": "https://localhost:8080/",
          "height": 54
        }
      },
      "cell_type": "code",
      "source": [
        "# import the csv files path (both control and condition group) from the google drive to a list\n",
        "# needs the password confirmation\n",
        "\n",
        "file_list = list()\n",
        "file_dir_drive_cond = \"content/My Drive/Colab Notebooks/condition\"\n",
        "file_dir_drive_cont = \"content/My Drive/Colab Notebooks/control\"\n",
        "\n",
        "for f in os.listdir(file_dir_drive_cond):\n",
        "    file_list.append(os.path.join(file_dir_drive_cond, f))\n",
        "\n",
        "for f in os.listdir(file_dir_drive_cont):\n",
        "    file_list.append(os.path.join(file_dir_drive_cont, f))\n",
        "    \n",
        "print(file_list)"
      ],
      "execution_count": 0,
      "outputs": [
        {
          "output_type": "stream",
          "text": [
            "['content/My Drive/Colab Notebooks/control/control_17.csv', 'content/My Drive/Colab Notebooks/control/control_3.csv', 'content/My Drive/Colab Notebooks/control/control_19.csv', 'content/My Drive/Colab Notebooks/control/control_31.csv', 'content/My Drive/Colab Notebooks/control/control_23.csv', 'content/My Drive/Colab Notebooks/control/control_24.csv', 'content/My Drive/Colab Notebooks/control/control_27.csv', 'content/My Drive/Colab Notebooks/control/control_25.csv', 'content/My Drive/Colab Notebooks/control/control_28.csv', 'content/My Drive/Colab Notebooks/control/control_32.csv', 'content/My Drive/Colab Notebooks/control/control_29.csv', 'content/My Drive/Colab Notebooks/control/control_30.csv', 'content/My Drive/Colab Notebooks/control/control_9.csv', 'content/My Drive/Colab Notebooks/control/control_4.csv', 'content/My Drive/Colab Notebooks/control/control_8.csv', 'content/My Drive/Colab Notebooks/control/control_5.csv', 'content/My Drive/Colab Notebooks/control/control_6.csv', 'content/My Drive/Colab Notebooks/control/control_7.csv']\n"
          ],
          "name": "stdout"
        }
      ]
    },
    {
      "metadata": {
        "id": "zD3Ehnp0e4fj",
        "colab_type": "code",
        "colab": {}
      },
      "cell_type": "code",
      "source": [
        "# proper reading of csv files with the choice of the each day' 18:00 - 9:00 period (night)\n",
        "# each night' data is then plotted via matplotlib, saved as .png with the proper label (\"condition\"/\"control\")\n",
        "\n",
        "csv.register_dialect('dialect1', delimiter = ',')\n",
        "\n",
        "for i in file_list:\n",
        "  name = (re.split(r'[/]', i))\n",
        "  name = (re.split(r'[.]', name[4]))\n",
        "  name = name[0]\n",
        "  print(name)\n",
        "  with open(i) as mov_data:\n",
        "      reader = csv.reader(mov_data, dialect='dialect1')\n",
        "      mov_data = list(reader) #whole csv\n",
        "      dates = []\n",
        "      mov = []\n",
        "      for row in mov_data:\n",
        "          date = row[0]\n",
        "          mo = row[2]\n",
        "          if mov_data.index(row) != 0:\n",
        "              dates.append(date) #timestamp from csv\n",
        "              mov.append(float(mo)) #activity from csv\n",
        "\n",
        "  dates_n = [datetime.strptime(x, '%Y-%m-%d %H:%M:%S') for x in dates]\n",
        "  database = list(zip(dates_n, mov)) #list (timestamp, activity) from one csv\n",
        "\n",
        "  night_dates = []\n",
        "  night_mov = []\n",
        "  for j in database:\n",
        "      if not (j[0]).hour in [10,11,12,13,14,15,16,17,18]:\n",
        "              night_dates.append(j[0])  #timestamp from single night\n",
        "              night_mov.append(float(j[1]))  #activity from single night\n",
        "      elif (j[0]).hour == 10 and (j[0]).minute == 1:\n",
        "              filename = str((j[0]).year) + '_' + str((j[0]).month) + '_' + str((j[0]).day) + '_' + str(name)\n",
        "              print(filename)\n",
        "              plt.figure(figsize=(40,20))\n",
        "              plt.plot(night_dates, night_mov, linewidth=2)\n",
        "              plt.savefig('content/My Drive/Colab Notebooks/depression_H3_image_data/' + str(filename) + '.png', bbox_inches='tight')\n",
        "              night_mov = []\n",
        "              night_dates = []\n",
        "\n"
      ],
      "execution_count": 0,
      "outputs": []
    }
  ]
}