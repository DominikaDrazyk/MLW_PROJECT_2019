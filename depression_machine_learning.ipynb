{
  "nbformat": 4,
  "nbformat_minor": 0,
  "metadata": {
    "colab": {
      "name": "depression_machine_learning.ipynb",
      "version": "0.3.2",
      "provenance": []
    },
    "kernelspec": {
      "name": "python2",
      "display_name": "Python 2"
    }
  },
  "cells": [
    {
      "metadata": {
        "id": "Vk7KfMgHVIqP",
        "colab_type": "text"
      },
      "cell_type": "markdown",
      "source": [
        "#  KWIK2018/19 - MLW Project - ML for Depression\n",
        "\n",
        "\n",
        "https://datasets.simula.no/depresjon/\n",
        "\n",
        "https://dl.acm.org/citation.cfm?id=3204949.3208125\n",
        "\n",
        "Dataset został stworzony na potrzeby badania badającego wzorce ruchowe charakterystyczne dla osób z depresją i schizofrenią. Dokonano pomiaru aktywności motorycznej 23 chorych i porównano z wynikami grupy kontrolnej liczącej 32 osoby. \n",
        "\n",
        "Każdy z uczestników nosił biosensor (*Actiwatch, Cambridge Neurotechnology Ltd, England, model AW4*) przez okres 2 tygodni. Częstotliwośc samplowania wynosiła 32Hz, zaś pojedyncza wartość wskaźnika aktywności ruchowej odpowiadająca intensywności wykonywanych ruchów była uśredniana w 60sec oknie czasowym. Do analizy włączono tylko aktywność motoryczną przekraczającą wartość 0.05g. \n",
        "\n",
        "Oryginalny artykuł:\n",
        "*Berle J. O., Hauge E. R., Oedegaard K. J., Holsten F., Fasmer O. B. (2010) Actigraphic registration of motor activity reveals a more structured behavioural pattern in schizophrenia than in major depression, BMC Research Notes, 3:149, https://doi.org/10.1186/1756-0500-3-149*\n",
        "\n",
        "\n",
        "---\n"
      ]
    },
    {
      "metadata": {
        "id": "-enXto9rZBQL",
        "colab_type": "text"
      },
      "cell_type": "markdown",
      "source": [
        "Dataset składa się z oddzielnego pliku .csv dla każdego uczestnika zawierającego *timestamp* (odcinki 60s) oraz *activity* (odpowiadającą mu wartość wskaźnika aktywności ruchowej). \n",
        "\n",
        "Grupa eksperymentalna (N=23) została dodatkowo opisana następujacymi parametrami jakościowymi kwestionariusza MADRS:\n",
        "- identyfikator (*number*)\n",
        "- liczba dni pomiaru (*days*)\n",
        "- płeć (*gender*: 1 female, 2 male)\n",
        "- wiek (*age*: w latach)\n",
        "- rodzaj schorzenia (*afftype*: 1 bipolar II, 2 depresja, 3 bipolar I)\n",
        "- melancholia (*melanch*: 1 odczuwana, 2 brak)\n",
        "- hospitalizacja (*inpatient*: 1 hospitalizowany, 2 brak hospitalizacji)\n",
        "- lata nauki (*edu*: w latach)\n",
        "- status cywilny (*marriage*: 1 w związku, 2 singiel)\n",
        "- praca (*work*: 1 zatrudniony lub student, 2 niezatrudniony)\n",
        "- wynik MADRS przed pomiarem aktywności (*madrs1*)\n",
        "- wynik MADRS po pomiarze aktywności (*madrs2*)\n",
        "\n",
        "---\n",
        "\n"
      ]
    },
    {
      "metadata": {
        "id": "GqG8hzIaca4D",
        "colab_type": "text"
      },
      "cell_type": "markdown",
      "source": [
        "Możliwe zastosowania datasetu:\n",
        "- użycie uczenia maszynowego do klasyfikacji stanów depresyjnych; \n",
        "- przewydywanie wartości wskaźnika MADRS na bazie danych o aktywności motorycznej \n",
        "- analiza wzorców sennych na podstawie aktywności ruchowej u pacjentów z i bez depresji\n",
        "\n",
        "\n",
        "---\n",
        "\n"
      ]
    },
    {
      "metadata": {
        "id": "hlPyolUpfN7G",
        "colab_type": "text"
      },
      "cell_type": "markdown",
      "source": [
        "Nasz projekt zaklada sprawdzenie na wyżej opisanym datasecie następujących hipotez badawczych:\n",
        "\n",
        ">H1: na podstawie wyników kwestionariusza MADRS (*madrs1*) oraz jego wybranych pojedynczych komponentów, możliwa jest efektywna klasyfikacja stanu chorobowego osoby badanej (*afftype*)\n",
        "\n",
        ">H2: efektywna predykcja stanu chorobowego osoby badanej (*afftype*) jest możliwa na podstawie wyników pomiaru jej aktywności motorycznej (*activity*)\n",
        "\n",
        ">H3: na podstawie wyników pomiaru aktywności motorycznej osoby badanej (*activity*) oraz klasyfikacji stanu chorobowego osoby badanej (*afftype*) możliwe jest wyłonienie sennych wzorców ruchowych dla każdej z grup\n",
        "\n",
        "Hipotezy H1, H2 oraz H3 zostaną przetesowane z użyciem uczenia maszynowego w pakiecie scikit-learn i pandas (Python). Każda z postawionych hipotez zostanie sprawdzona za pomocą przynajmniej dwóch równorzędnych metod analizy tak, by było możliwe ich porównanie w wymiarze skuteczności predykcji i dopasowania modelu do danych. \n",
        "\n",
        "---\n"
      ]
    },
    {
      "metadata": {
        "id": "M4AtJbPsh7Wx",
        "colab_type": "text"
      },
      "cell_type": "markdown",
      "source": [
        "Plan pracy:\n",
        "\n",
        "1. Dostosowanie struktury datasetu do planowanych analiz\n",
        "\n",
        "2. Wybór implementowanych do H1 metod - prawdopodobnie będzie to ANOVA z uwagi na ilość danych.\n",
        "\n",
        "3. Przetestowanie H1 następującymi metodami: \n",
        "\n",
        "    - ANOVA\n",
        "\n",
        "4. Wybór implementowanych do H2 metod za pomocą API scikit-learn:\n",
        "https://scikit-learn.org/stable/tutorial/machine_learning_map/\n",
        "\n",
        ">ścieżka: *>50samples // predicting a category // labeled data // <10ksamples // *\n",
        "\n",
        "5. Przetestowanie H2 następującymi metodami:\n",
        " \n",
        "  - Linear SVC\n",
        "  - Naive Bayes\n",
        "  - K-Neighbours Classifier\n",
        "  - Ensemble Classifier\n",
        "  - SVC\n",
        "  \n",
        "6. Porównanie metod z punktu 5. na wymiarze skuteczności predykcji\n",
        "\n",
        "7. Wybór implementowanych do H3 metod za pomocą API scikit-learn:\n",
        "https://scikit-learn.org/stable/tutorial/machine_learning_map/\n",
        "\n",
        ">ścieżka: *>50samples // predicting a category // number of categories known // <10ksamples*\n",
        "\n",
        "8. Przetestowanie H3 następującymi metodami:\n",
        " \n",
        "  - KMeans\n",
        "  - Spectral Clusttering\n",
        "  - GMM\n",
        "  - MeanShift ???\n",
        "  - VBGMM ???\n",
        "  \n",
        "9. Porównanie metod z punktu 8. na wymiarze efektywności klastrowania\n",
        "\n",
        "HELPER Z METODAMI:\n",
        ">https://jakevdp.github.io/PythonDataScienceHandbook/05.02-introducing-scikit-learn.html\n",
        "\n",
        ">https://stackabuse.com/classification-in-python-with-scikit-learn-and-pandas/\n",
        "\n",
        ">https://www.dataquest.io/blog/sci-kit-learn-tutorial/\n",
        "\n"
      ]
    },
    {
      "metadata": {
        "id": "73PV0EzinTEh",
        "colab_type": "text"
      },
      "cell_type": "markdown",
      "source": [
        ""
      ]
    }
  ]
}