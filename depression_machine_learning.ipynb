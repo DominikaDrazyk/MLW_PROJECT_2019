{
  "nbformat": 4,
  "nbformat_minor": 0,
  "metadata": {
    "colab": {
      "name": "depression_machine_learning.ipynb",
      "version": "0.3.2",
      "provenance": [],
      "collapsed_sections": []
    },
    "kernelspec": {
      "name": "python2",
      "display_name": "Python 2"
    }
  },
  "cells": [
    {
      "metadata": {
        "id": "Vk7KfMgHVIqP",
        "colab_type": "text"
      },
      "cell_type": "markdown",
      "source": [
        "#  KWIK2018/19 - MLW Project - ML for Depression\n",
        "\n",
        "\n",
        "https://datasets.simula.no/depresjon/\n",
        "\n",
        "https://dl.acm.org/citation.cfm?id=3204949.3208125\n",
        "\n",
        "The dataset was created for research aiming to investigate patterns of motor activity characteristic for people with major depression and and schizofrenic patients. The measurement of motor activity includes data from 23 people suffering from those conditions (experimenta group) and those from 32 people with no such conditions (control group) \n",
        "\n",
        "Every participant was provided with actiwatch (biosensor, Cambridge Neurotechnology Ltd, England, AW4 model*) for the period of two weeks. Sampling frequency was 32 Hz and the singular value of motor activity coefficient, corresponding to the intensity of the movement was averaged in 60s time epoch. Only the activity exceeding the 0.05g threshold was included in the further analysis.\n",
        "\n",
        "Original paper:\n",
        "*Berle J. O., Hauge E. R., Oedegaard K. J., Holsten F., Fasmer O. B. (2010) Actigraphic registration of motor activity reveals a more structured behavioural pattern in schizophrenia than in major depression, BMC Research Notes, 3:149, https://doi.org/10.1186/1756-0500-3-149*\n",
        "\n",
        "\n",
        "---\n"
      ]
    },
    {
      "metadata": {
        "id": "-enXto9rZBQL",
        "colab_type": "text"
      },
      "cell_type": "markdown",
      "source": [
        "The dataset is constructed from the individual file for each participant, including .csv file with the  *timestamp* (60s epochs) and *activity* (corresponding value of the motor activity coefficient).\n",
        "\n",
        "The experimental group (N=32) was additionaly subjected to the questionaire with the following features (including MADRS questionaire):\n",
        "\n",
        "- id (*number*)\n",
        "- number of days under the measurement (*days*)\n",
        "- gender (*gender*: 1 female, 2 male)\n",
        "- age (*age*: w latach)\n",
        "- condition (*afftype*: 1 bipolar II, 2 depresja, 3 bipolar I)\n",
        "- melancholy (*melanch*: 1 odczuwana, 2 brak)\n",
        "- hospitality (*inpatient*: 1 hospitalizowany, 2 brak hospitalizacji)\n",
        "- years of education (*edu*: w latach)\n",
        "- maritial status (*marriage*: 1 w związku, 2 singiel)\n",
        "- work (*work*: 1 zatrudniony lub student, 2 niezatrudniony)\n",
        "- pre-measurement MADRS result (*madrs1*)\n",
        "- post-measurement MADRS result (*madrs2*)\n",
        "\n",
        "---\n",
        "\n"
      ]
    },
    {
      "metadata": {
        "id": "GqG8hzIaca4D",
        "colab_type": "text"
      },
      "cell_type": "markdown",
      "source": [
        "Possible ways of machine learning application to the dataset:\n",
        "- classification of the mental conditions\n",
        "- prediction of the MADRS value based on the motor activity coefficients\n",
        "- the analysis of sleep movement patterns in both groups (experimental, control)\n",
        "\n"
      ]
    },
    {
      "metadata": {
        "id": "hlPyolUpfN7G",
        "colab_type": "text"
      },
      "cell_type": "markdown",
      "source": [
        "Our project implies investigating the dataset with the following prior hypothesis:\n",
        "\n",
        ">H1: there is a possible effective classification method applied to the mental health status of participants based on the MADRS questionaire and the selected features of the dataset.\n",
        "\n",
        ">H2: there is a posiibility of the effective prediction of participant's mental health status (*afftype*)  based on the values of motor activity measurement (*activity*).\n",
        "\n",
        ">H3: there is a possibility of specifying the patterns of sleep motor activity for every of the mental health conditions based on the values of motor activity measurement (*activity*) and the classification of the participant's mental health status (*afftype*).\n",
        "\n",
        "H2 and H3 hypothesis will be tested via machine learning (scikit-learn package) and pandas (Python). H1 hypothesis will be tested with parametric analysis of variance test ANOVA. Both hypothesis under machine learning method will be applied to at least two equivalent analysis methods, so as to provied us with the ability to compare them in the field of prediction effectiveness and the model fit.\n"
      ]
    },
    {
      "metadata": {
        "id": "M4AtJbPsh7Wx",
        "colab_type": "text"
      },
      "cell_type": "markdown",
      "source": [
        "Project schedule:\n",
        "\n",
        "1. Adjustment of dataset structure based on the chosen analysis.\n",
        "\n",
        "2. Choosing the methods of H1 analysis implementation (supposingly ANOVA).\n",
        "\n",
        "3. Conducting the H1 analysis with: \n",
        "\n",
        "    - ANOVA\n",
        "\n",
        "4. Choosing the methods of H2 analysis implementation using API scikit-learn:\n",
        "https://scikit-learn.org/stable/tutorial/machine_learning_map/\n",
        "\n",
        ">path: *>50samples // predicting a category // labeled data // <10ksamples // *\n",
        "\n",
        "5.  Conducting the H2 analysis with the following methods:\n",
        " \n",
        "  - Linear SVC\n",
        "  - Naive Bayes\n",
        "  - K-Neighbours Classifier\n",
        "  - Ensemble Classifier\n",
        "  - SVC\n",
        "  \n",
        "6. The comparission of methods form 5. on the field of effectiveness of prediction.\n",
        "\n",
        "7. Choosing the methods of H3 analysis implementation using API scikit-learn:\n",
        "https://scikit-learn.org/stable/tutorial/machine_learning_map/\n",
        "\n",
        ">path: *>50samples // predicting a category // number of categories known // <10ksamples*\n",
        "\n",
        "8. Conducting the H3 analysis with the following methods:\n",
        " \n",
        "  - KMeans\n",
        "  - Spectral Clusttering\n",
        "  - GMM\n",
        "  - MeanShift ???\n",
        "  - VBGMM ???\n",
        "  \n",
        "9. he comparission of methods form 8. on the field of effectiveness of clusttering\n",
        "\n",
        "Methods helper:\n",
        ">https://jakevdp.github.io/PythonDataScienceHandbook/05.02-introducing-scikit-learn.html\n",
        "\n",
        ">https://stackabuse.com/classification-in-python-with-scikit-learn-and-pandas/\n",
        "\n",
        ">https://www.dataquest.io/blog/sci-kit-learn-tutorial/\n",
        "\n"
      ]
    },
    {
      "metadata": {
        "id": "73PV0EzinTEh",
        "colab_type": "text"
      },
      "cell_type": "markdown",
      "source": [
        "##EMERGENCY EXIT OR JUST THE NEXT PATH\n",
        "\n",
        "Investigating the possibility to predict the early depression sympthoms based on available 70 features of Busara Center (Siaya County, Lake Victoria, Kenya) patient's dataset.\n",
        "\n",
        "Tasks:\n",
        "\n",
        "1. Dataset pre-processing\n",
        ">https://zindi.africa/competitions/busara-mental-health-prediction-challenge/data\n",
        "\n",
        "2. Investigating Keras API (neural architectures, TensorFlow) and re-writting them into scikit-learn\n",
        ">https://heartbeat.fritz.ai/predicting-depression-from-routine-survey-data-using-keras-f72a71e4cfe8\n",
        "\n",
        "3. Models construction and comparission of the best triad. \n",
        "\n",
        "\n",
        "##ADDITIONAL IDEAS\n",
        "\n",
        "- PyTorch\n",
        "https://pytorch.org/docs/stable/index.html\n",
        "\n",
        "- TensorFlow / TensorFlow Light \n",
        "https://www.tensorflow.org/tutorials/?hl=pl\n",
        "\n",
        "- ML-kit (android) - this provides us with the opportunity to create mobile app to detect the mental health issues based on the movement data (faaaaaar future of the project), but to use this the best what we can do is to switch scikit-learn to TensorFlow. In my opinien for now we must leave it, we are far from creating any app idea. \n",
        "https://firebase.google.com/docs/ml-kit/android/use-custom-tflite?authuser=0\n",
        "\n",
        "- Caffee (Berkeley AI Research): just another library for neural networks, based on the Python, can't actually say why better from any else, except for the ability to mess with the layers of the neural net itself: https://github.com/BVLC/caffe/blob/master/examples/mnist/lenet.prototxt but idk, maybe we can apply it to the H3 hypothesis as a comparission to scikit-learn\n",
        "http://caffe.berkeleyvision.org/\n",
        "\n"
      ]
    }
  ]
}