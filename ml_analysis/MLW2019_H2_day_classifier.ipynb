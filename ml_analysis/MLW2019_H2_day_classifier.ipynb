{
  "nbformat": 4,
  "nbformat_minor": 0,
  "metadata": {
    "colab": {
      "name": "MLW2019_H2_day_classifier.ipynb",
      "version": "0.3.2",
      "provenance": []
    },
    "kernelspec": {
      "name": "python3",
      "display_name": "Python 3"
    },
    "accelerator": "GPU"
  },
  "cells": [
    {
      "metadata": {
        "id": "gXW13aVq-zwI",
        "colab_type": "code",
        "outputId": "5d57e8fb-dfcc-4499-d0f1-481b72df3655",
        "colab": {
          "base_uri": "https://localhost:8080/",
          "height": 34
        }
      },
      "cell_type": "code",
      "source": [
        "import os\n",
        "import cv2\n",
        "import random\n",
        "import numpy as np\n",
        "import tensorflow as tf\n",
        "from random import shuffle\n",
        "from google.colab import files, drive\n",
        "\n",
        "import matplotlib.pyplot as plt\n",
        "%matplotlib inline\n",
        "\n",
        "from keras.models import Sequential\n",
        "from keras.layers import *\n",
        "from keras.optimizers import *"
      ],
      "execution_count": 3,
      "outputs": [
        {
          "output_type": "stream",
          "text": [
            "Using TensorFlow backend.\n"
          ],
          "name": "stderr"
        }
      ]
    },
    {
      "metadata": {
        "id": "oqqGv1yi-38N",
        "colab_type": "code",
        "outputId": "3e859b14-ae21-4f5a-a30b-448bc576ecfe",
        "colab": {
          "base_uri": "https://localhost:8080/",
          "height": 122
        }
      },
      "cell_type": "code",
      "source": [
        "drive.mount('/content/drive',force_remount=True)"
      ],
      "execution_count": 7,
      "outputs": [
        {
          "output_type": "stream",
          "text": [
            "Go to this URL in a browser: https://accounts.google.com/o/oauth2/auth?client_id=947318989803-6bn6qk8qdgf4n4g3pfee6491hc0brc4i.apps.googleusercontent.com&redirect_uri=urn%3Aietf%3Awg%3Aoauth%3A2.0%3Aoob&scope=email%20https%3A%2F%2Fwww.googleapis.com%2Fauth%2Fdocs.test%20https%3A%2F%2Fwww.googleapis.com%2Fauth%2Fdrive%20https%3A%2F%2Fwww.googleapis.com%2Fauth%2Fdrive.photos.readonly%20https%3A%2F%2Fwww.googleapis.com%2Fauth%2Fpeopleapi.readonly&response_type=code\n",
            "\n",
            "Enter your authorization code:\n",
            "··········\n",
            "Mounted at /content/drive\n"
          ],
          "name": "stdout"
        }
      ]
    },
    {
      "metadata": {
        "id": "ugQ5dgRL-6Yo",
        "colab_type": "code",
        "outputId": "80af24e8-8dcb-414d-da28-881861f314b1",
        "colab": {
          "base_uri": "https://localhost:8080/",
          "height": 51
        }
      },
      "cell_type": "code",
      "source": [
        "# paths to both classes of image data\n",
        "condition_path = '/content/drive/My Drive/Colab Notebooks/day_depression_image_data/condition'\n",
        "control_path = '/content/drive/My Drive/Colab Notebooks/day_depression_image_data/control'\n",
        "\n",
        "print(condition_path)\n",
        "print(control_path)"
      ],
      "execution_count": 8,
      "outputs": [
        {
          "output_type": "stream",
          "text": [
            "/content/drive/My Drive/Colab Notebooks/day_depression_image_data/condition\n",
            "/content/drive/My Drive/Colab Notebooks/day_depression_image_data/control\n"
          ],
          "name": "stdout"
        }
      ]
    },
    {
      "metadata": {
        "id": "ZUoipTkG--9B",
        "colab_type": "code",
        "outputId": "3afe7926-3669-4b61-f3f8-b6b3b9b956f3",
        "colab": {
          "base_uri": "https://localhost:8080/",
          "height": 51
        }
      },
      "cell_type": "code",
      "source": [
        "file_list_cont = []\n",
        "file_list_cond = []\n",
        "\n",
        "for f in os.listdir(condition_path):\n",
        "    file_list_cond.append(os.path.join(condition_path, f))\n",
        "\n",
        "for f in os.listdir(control_path):\n",
        "    file_list_cont.append(os.path.join(control_path, f))\n",
        "\n",
        "# counting 20% of each class \n",
        "n_test_cond = int(0.2*(len(file_list_cond)))\n",
        "n_test_cont = int(0.2*(len(file_list_cont)))\n",
        "\n",
        "random.shuffle(file_list_cond)\n",
        "random.shuffle(file_list_cont)\n",
        "\n",
        "print(\"20% of condition class is \" + str(n_test_cond) + \" instances\")\n",
        "print(\"20% of control class is \" + str(n_test_cont) + \" instances\")"
      ],
      "execution_count": 9,
      "outputs": [
        {
          "output_type": "stream",
          "text": [
            "20% of condition class is 76 instances\n",
            "20% of control class is 141 instances\n"
          ],
          "name": "stdout"
        }
      ]
    },
    {
      "metadata": {
        "id": "gzELzqYd_B3V",
        "colab_type": "code",
        "colab": {
          "base_uri": "https://localhost:8080/",
          "height": 51
        },
        "outputId": "99b4368e-7e31-4c23-fc64-9dd6d33733a7"
      },
      "cell_type": "code",
      "source": [
        "test_data = []\n",
        "\n",
        "# assesing 20% of each class to test, and the rest to train \n",
        "for d in range(n_test_cond):\n",
        "  test_data.append(file_list_cond[d])\n",
        "  del file_list_cond[d]\n",
        "\n",
        "for d in range(n_test_cont):\n",
        "  test_data.append(file_list_cont[d])\n",
        "  del file_list_cont[d]\n",
        "  \n",
        "train_data = file_list_cond + file_list_cont\n",
        "\n",
        "print(\"Test dataset has \" + str(len(test_data)) + \" of instances.\")\n",
        "print(\"Train dataset has \" + str(len(train_data)) + \" of instances.\")"
      ],
      "execution_count": 10,
      "outputs": [
        {
          "output_type": "stream",
          "text": [
            "Test dataset has 217 of instances.\n",
            "Train dataset has 872 of instances.\n"
          ],
          "name": "stdout"
        }
      ]
    },
    {
      "metadata": {
        "id": "-80IKqXG_FQO",
        "colab_type": "code",
        "colab": {}
      },
      "cell_type": "code",
      "source": [
        "# makes a label (\"control\"/\"condition\") to every image after it's name\n",
        "def one_hot_label(img):\n",
        "  label = img.split('_')[6]\n",
        "  if label == 'condition':\n",
        "    ohl = np.array([1,0])\n",
        "  elif label == 'control':\n",
        "    ohl = np.array([0,1])\n",
        "  return ohl\n",
        "\n",
        "# load the test image and rescale to force later processing, append to array with the label\n",
        "def test_data_with_label():\n",
        "  test_images = []\n",
        "  for i in test_data:\n",
        "    path = os.path.join(i)\n",
        "    img = cv2.imread(path, cv2.IMREAD_GRAYSCALE)\n",
        "    img = cv2.resize(img, (64,64))\n",
        "    test_images.append([np.array(img), one_hot_label(i)])\n",
        "  return test_images\n",
        "\n",
        "# load the train image and rescale to force later processing, append to array with the label\n",
        "def train_data_with_label():\n",
        "  train_images = []\n",
        "  for i in train_data:\n",
        "    path = os.path.join(i)\n",
        "    img = cv2.imread(path, cv2.IMREAD_GRAYSCALE)\n",
        "    img = cv2.resize(img, (64,64))\n",
        "    train_images.append([np.array(img), one_hot_label(i)])\n",
        "  return train_images"
      ],
      "execution_count": 0,
      "outputs": []
    },
    {
      "metadata": {
        "id": "jE-9JeTp_Gd6",
        "colab_type": "code",
        "colab": {}
      },
      "cell_type": "code",
      "source": [
        "# usig functions to asses arrays with the image binary data and the label\n",
        "training_images = train_data_with_label()\n",
        "testing_images = test_data_with_label()\n",
        "tr_img_data = np.array([i[0] for i in training_images]).reshape(-1,64,64,1)\n",
        "tr_lbl_data = np.array([i[1] for i in training_images])\n",
        "tst_img_data = np.array([i[0] for i in testing_images]).reshape(-1,64,64,1)\n",
        "tst_lbl_data = np.array([i[1] for i in testing_images])"
      ],
      "execution_count": 0,
      "outputs": []
    },
    {
      "metadata": {
        "id": "pBe1UUhW_PrT",
        "colab_type": "code",
        "colab": {
          "base_uri": "https://localhost:8080/",
          "height": 1805
        },
        "outputId": "39688413-8a67-4ceb-9e2b-fe56c806f9ba"
      },
      "cell_type": "code",
      "source": [
        "model = Sequential()\n",
        "\n",
        "# LAYERS\n",
        "# first layer made from ... \n",
        "model.add(InputLayer(input_shape=[64,64,1]))\n",
        "# first convolution, we can adjust the number of kernels & filters\n",
        "model.add(Conv2D(filters=32,kernel_size=5,strides=1,padding='same', activation='relu'))\n",
        "model.add(Conv2D(filters=32,kernel_size=5,strides=1,padding='same', activation='relu'))\n",
        "# first poolong\n",
        "model.add(MaxPool2D(pool_size=5,padding='same'))    \n",
        "\n",
        "# second layer made from ... \n",
        "model.add(Conv2D(filters=64,kernel_size=5,strides=1,padding='same', activation='relu'))\n",
        "model.add(Conv2D(filters=64,kernel_size=5,strides=1,padding='same', activation='relu'))\n",
        "model.add(MaxPool2D(pool_size=5,padding='same')) \n",
        "\n",
        "# third layer made from ... \n",
        "model.add(Conv2D(filters=128,kernel_size=5,strides=1,padding='same', activation='relu'))\n",
        "model.add(Conv2D(filters=128,kernel_size=5,strides=1,padding='same', activation='relu'))\n",
        "model.add(MaxPool2D(pool_size=5,padding='same')) \n",
        "\n",
        "# INTERPRETATION\n",
        "# in case of overlearning, drop it out at 0.25 rate\n",
        "model.add(Dropout(0.25))\n",
        "# flattening the image between consecutive convolutional layers\n",
        "model.add(Flatten())\n",
        "# first neuron description, 512 neurons \n",
        "model.add(Dense(512,activation='relu'))\n",
        "# in case of overlearning, drop it out at 0.5 rate\n",
        "model.add(Dropout(0.5))\n",
        "# second neuron description, 2 neurons, 'softmax' to create the probabilities of each of the class o be a class of that instance \n",
        "model.add(Dense(2,activation='softmax'))\n",
        "\n",
        "#LEARNING\n",
        "# tool for the learning, categorical crossentropy for the binary classification\n",
        "model.compile(optimizer=\"adam\", loss='categorical_crossentropy',metrics=['accuracy'])\n",
        "\n",
        "#TRAINING\n",
        "#epochs - number of learning iterations, \n",
        "model.fit(x=tr_img_data, y=tr_lbl_data, epochs=50, batch_size=100)"
      ],
      "execution_count": 13,
      "outputs": [
        {
          "output_type": "stream",
          "text": [
            "WARNING:tensorflow:From /usr/local/lib/python3.6/dist-packages/tensorflow/python/ops/math_ops.py:3066: to_int32 (from tensorflow.python.ops.math_ops) is deprecated and will be removed in a future version.\n",
            "Instructions for updating:\n",
            "Use tf.cast instead.\n",
            "Epoch 1/50\n",
            "872/872 [==============================] - 7s 8ms/step - loss: 1.2373 - acc: 0.5906\n",
            "Epoch 2/50\n",
            "872/872 [==============================] - 0s 339us/step - loss: 0.3858 - acc: 0.7718\n",
            "Epoch 3/50\n",
            "872/872 [==============================] - 0s 338us/step - loss: 0.5102 - acc: 0.7672\n",
            "Epoch 4/50\n",
            "872/872 [==============================] - 0s 337us/step - loss: 0.3796 - acc: 0.7867\n",
            "Epoch 5/50\n",
            "872/872 [==============================] - 0s 336us/step - loss: 0.2954 - acc: 0.8658\n",
            "Epoch 6/50\n",
            "872/872 [==============================] - 0s 338us/step - loss: 0.3124 - acc: 0.8452\n",
            "Epoch 7/50\n",
            "872/872 [==============================] - 0s 337us/step - loss: 0.3074 - acc: 0.8475\n",
            "Epoch 8/50\n",
            "872/872 [==============================] - 0s 335us/step - loss: 0.2954 - acc: 0.8589\n",
            "Epoch 9/50\n",
            "872/872 [==============================] - 0s 331us/step - loss: 0.2724 - acc: 0.8727\n",
            "Epoch 10/50\n",
            "872/872 [==============================] - 0s 336us/step - loss: 0.3341 - acc: 0.8498\n",
            "Epoch 11/50\n",
            "872/872 [==============================] - 0s 332us/step - loss: 0.2562 - acc: 0.8933\n",
            "Epoch 12/50\n",
            "872/872 [==============================] - 0s 334us/step - loss: 0.2530 - acc: 0.8922\n",
            "Epoch 13/50\n",
            "872/872 [==============================] - 0s 331us/step - loss: 0.3308 - acc: 0.8945\n",
            "Epoch 14/50\n",
            "872/872 [==============================] - 0s 334us/step - loss: 0.2939 - acc: 0.8693\n",
            "Epoch 15/50\n",
            "872/872 [==============================] - 0s 336us/step - loss: 0.2865 - acc: 0.8716\n",
            "Epoch 16/50\n",
            "872/872 [==============================] - 0s 333us/step - loss: 0.2659 - acc: 0.8784\n",
            "Epoch 17/50\n",
            "872/872 [==============================] - 0s 331us/step - loss: 0.2558 - acc: 0.8784\n",
            "Epoch 18/50\n",
            "872/872 [==============================] - 0s 333us/step - loss: 0.2414 - acc: 0.8899\n",
            "Epoch 19/50\n",
            "872/872 [==============================] - 0s 333us/step - loss: 0.2380 - acc: 0.8933\n",
            "Epoch 20/50\n",
            "872/872 [==============================] - 0s 338us/step - loss: 0.1916 - acc: 0.9220\n",
            "Epoch 21/50\n",
            "872/872 [==============================] - 0s 328us/step - loss: 0.0847 - acc: 0.9713\n",
            "Epoch 22/50\n",
            "872/872 [==============================] - 0s 332us/step - loss: 0.0386 - acc: 0.9920\n",
            "Epoch 23/50\n",
            "872/872 [==============================] - 0s 332us/step - loss: 0.0470 - acc: 0.9851\n",
            "Epoch 24/50\n",
            "872/872 [==============================] - 0s 328us/step - loss: 0.0114 - acc: 0.9977\n",
            "Epoch 25/50\n",
            "872/872 [==============================] - 0s 333us/step - loss: 0.0027 - acc: 1.0000\n",
            "Epoch 26/50\n",
            "872/872 [==============================] - 0s 333us/step - loss: 8.6946e-04 - acc: 1.0000\n",
            "Epoch 27/50\n",
            "872/872 [==============================] - 0s 333us/step - loss: 3.3536e-04 - acc: 1.0000\n",
            "Epoch 28/50\n",
            "872/872 [==============================] - 0s 332us/step - loss: 7.6688e-05 - acc: 1.0000\n",
            "Epoch 29/50\n",
            "872/872 [==============================] - 0s 332us/step - loss: 5.8682e-05 - acc: 1.0000\n",
            "Epoch 30/50\n",
            "872/872 [==============================] - 0s 338us/step - loss: 6.1019e-05 - acc: 1.0000\n",
            "Epoch 31/50\n",
            "872/872 [==============================] - 0s 330us/step - loss: 9.0940e-05 - acc: 1.0000\n",
            "Epoch 32/50\n",
            "872/872 [==============================] - 0s 335us/step - loss: 3.7312e-05 - acc: 1.0000\n",
            "Epoch 33/50\n",
            "872/872 [==============================] - 0s 332us/step - loss: 5.1406e-05 - acc: 1.0000\n",
            "Epoch 34/50\n",
            "872/872 [==============================] - 0s 332us/step - loss: 3.6366e-05 - acc: 1.0000\n",
            "Epoch 35/50\n",
            "872/872 [==============================] - 0s 332us/step - loss: 3.1248e-05 - acc: 1.0000\n",
            "Epoch 36/50\n",
            "872/872 [==============================] - 0s 333us/step - loss: 3.8173e-05 - acc: 1.0000\n",
            "Epoch 37/50\n",
            "872/872 [==============================] - 0s 333us/step - loss: 3.6209e-05 - acc: 1.0000\n",
            "Epoch 38/50\n",
            "872/872 [==============================] - 0s 330us/step - loss: 3.4673e-05 - acc: 1.0000\n",
            "Epoch 39/50\n",
            "872/872 [==============================] - 0s 335us/step - loss: 2.5013e-05 - acc: 1.0000\n",
            "Epoch 40/50\n",
            "872/872 [==============================] - 0s 329us/step - loss: 3.4949e-05 - acc: 1.0000\n",
            "Epoch 41/50\n",
            "872/872 [==============================] - 0s 335us/step - loss: 2.4261e-05 - acc: 1.0000\n",
            "Epoch 42/50\n",
            "872/872 [==============================] - 0s 334us/step - loss: 2.3811e-05 - acc: 1.0000\n",
            "Epoch 43/50\n",
            "872/872 [==============================] - 0s 333us/step - loss: 2.4301e-05 - acc: 1.0000\n",
            "Epoch 44/50\n",
            "872/872 [==============================] - 0s 337us/step - loss: 3.3300e-05 - acc: 1.0000\n",
            "Epoch 45/50\n",
            "872/872 [==============================] - 0s 330us/step - loss: 3.2353e-05 - acc: 1.0000\n",
            "Epoch 46/50\n",
            "872/872 [==============================] - 0s 330us/step - loss: 1.6368e-05 - acc: 1.0000\n",
            "Epoch 47/50\n",
            "872/872 [==============================] - 0s 340us/step - loss: 2.8970e-05 - acc: 1.0000\n",
            "Epoch 48/50\n",
            "872/872 [==============================] - 0s 339us/step - loss: 2.2237e-05 - acc: 1.0000\n",
            "Epoch 49/50\n",
            "872/872 [==============================] - 0s 339us/step - loss: 1.6987e-05 - acc: 1.0000\n",
            "Epoch 50/50\n",
            "872/872 [==============================] - 0s 341us/step - loss: 2.7337e-05 - acc: 1.0000\n"
          ],
          "name": "stdout"
        },
        {
          "output_type": "execute_result",
          "data": {
            "text/plain": [
              "<keras.callbacks.History at 0x7f8d434694e0>"
            ]
          },
          "metadata": {
            "tags": []
          },
          "execution_count": 13
        }
      ]
    },
    {
      "metadata": {
        "id": "GYYlmDMc_QYe",
        "colab_type": "code",
        "colab": {
          "base_uri": "https://localhost:8080/",
          "height": 34
        },
        "outputId": "3229b78f-7330-4f78-b767-0137e351fd08"
      },
      "cell_type": "code",
      "source": [
        "# testing phase\n",
        "score = model.evaluate(tr_img_data, tr_lbl_data, verbose=0)\n",
        "\n",
        "# second element is 'accuracy'\n",
        "score"
      ],
      "execution_count": 14,
      "outputs": [
        {
          "output_type": "execute_result",
          "data": {
            "text/plain": [
              "[2.6870283617387416e-06, 1.0]"
            ]
          },
          "metadata": {
            "tags": []
          },
          "execution_count": 14
        }
      ]
    },
    {
      "metadata": {
        "id": "SY0bKo4sMtVm",
        "colab_type": "code",
        "colab": {}
      },
      "cell_type": "code",
      "source": [
        ""
      ],
      "execution_count": 0,
      "outputs": []
    }
  ]
}
